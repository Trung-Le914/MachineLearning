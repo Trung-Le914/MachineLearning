{
 "cells": [
  {
   "cell_type": "markdown",
   "metadata": {},
   "source": [
    "# The dataset can be downloaded from the following Kaggle link:\n",
    "# https://www.kaggle.com/datasets/apexagotecha/sentimenttraindataset"
   ]
  },
  {
   "cell_type": "code",
   "execution_count": 1,
   "metadata": {},
   "outputs": [
    {
     "name": "stderr",
     "output_type": "stream",
     "text": [
      "/opt/anaconda3/lib/python3.8/site-packages/pandas/core/computation/expressions.py:20: UserWarning: Pandas requires version '2.7.3' or newer of 'numexpr' (version '2.7.1' currently installed).\n",
      "  from pandas.core.computation.check import NUMEXPR_INSTALLED\n"
     ]
    }
   ],
   "source": [
    "import pandas as pd\n",
    "import numpy as np\n",
    "import re\n",
    "import nltk\n",
    "import matplotlib.pyplot as plt\n",
    "from sklearn.model_selection import train_test_split\n",
    "from sklearn.preprocessing import StandardScaler\n",
    "from nltk.tokenize import TweetTokenizer\n",
    "from collections import defaultdict"
   ]
  },
  {
   "cell_type": "markdown",
   "metadata": {},
   "source": [
    "READING THE FILE"
   ]
  },
  {
   "cell_type": "code",
   "execution_count": 2,
   "metadata": {},
   "outputs": [
    {
     "data": {
      "text/html": [
       "<div>\n",
       "<style scoped>\n",
       "    .dataframe tbody tr th:only-of-type {\n",
       "        vertical-align: middle;\n",
       "    }\n",
       "\n",
       "    .dataframe tbody tr th {\n",
       "        vertical-align: top;\n",
       "    }\n",
       "\n",
       "    .dataframe thead th {\n",
       "        text-align: right;\n",
       "    }\n",
       "</style>\n",
       "<table border=\"1\" class=\"dataframe\">\n",
       "  <thead>\n",
       "    <tr style=\"text-align: right;\">\n",
       "      <th></th>\n",
       "      <th>label</th>\n",
       "      <th>tweet</th>\n",
       "    </tr>\n",
       "    <tr>\n",
       "      <th>id</th>\n",
       "      <th></th>\n",
       "      <th></th>\n",
       "    </tr>\n",
       "  </thead>\n",
       "  <tbody>\n",
       "    <tr>\n",
       "      <th>1</th>\n",
       "      <td>0</td>\n",
       "      <td>#fingerprint #Pregnancy Test https://goo.gl/h1...</td>\n",
       "    </tr>\n",
       "    <tr>\n",
       "      <th>2</th>\n",
       "      <td>0</td>\n",
       "      <td>Finally a transparant silicon case ^^ Thanks t...</td>\n",
       "    </tr>\n",
       "    <tr>\n",
       "      <th>3</th>\n",
       "      <td>0</td>\n",
       "      <td>We love this! Would you go? #talk #makememorie...</td>\n",
       "    </tr>\n",
       "    <tr>\n",
       "      <th>4</th>\n",
       "      <td>0</td>\n",
       "      <td>I'm wired I know I'm George I was made that wa...</td>\n",
       "    </tr>\n",
       "    <tr>\n",
       "      <th>5</th>\n",
       "      <td>1</td>\n",
       "      <td>What amazing service! Apple won't even talk to...</td>\n",
       "    </tr>\n",
       "  </tbody>\n",
       "</table>\n",
       "</div>"
      ],
      "text/plain": [
       "    label                                              tweet\n",
       "id                                                          \n",
       "1       0  #fingerprint #Pregnancy Test https://goo.gl/h1...\n",
       "2       0  Finally a transparant silicon case ^^ Thanks t...\n",
       "3       0  We love this! Would you go? #talk #makememorie...\n",
       "4       0  I'm wired I know I'm George I was made that wa...\n",
       "5       1  What amazing service! Apple won't even talk to..."
      ]
     },
     "execution_count": 2,
     "metadata": {},
     "output_type": "execute_result"
    }
   ],
   "source": [
    "file_path = '/kaggle/input/sentimenttraindataset/train_2kmZucJ.csv'\n",
    "df = pd.read_csv(file_path, index_col = 'id')\n",
    "df.head()"
   ]
  },
  {
   "cell_type": "markdown",
   "metadata": {},
   "source": [
    "PREPROCESSING THE DATASET"
   ]
  },
  {
   "cell_type": "code",
   "execution_count": 3,
   "metadata": {},
   "outputs": [],
   "source": [
    "# 1st Step: Building the standardize text\n",
    "def text_normalize(text):\n",
    "    # Retweet old acronym \"RT\" removal\n",
    "    text = re.sub(r'^RT[\\s]+', '', text)\n",
    "    \n",
    "    # Hyperlinks removal\n",
    "    text = re.sub(r'https?:\\/\\/.*[\\r\\n]*', '', text)\n",
    "    \n",
    "    # Hashtags removal\n",
    "    text = re.sub(r'#', '', text)\n",
    "    \n",
    "    # Punctuation removal\n",
    "    text = re.sub(r'[^\\w\\s]', '', text)\n",
    "    \n",
    "    # Tokenization\n",
    "    tokenizer = TweetTokenizer(\n",
    "        preserve_case = False,\n",
    "        strip_handles = True,\n",
    "        reduce_len = True\n",
    "    )\n",
    "    \n",
    "    text_tokens = tokenizer.tokenize(text)\n",
    "    \n",
    "    return text_tokens"
   ]
  },
  {
   "cell_type": "code",
   "execution_count": 4,
   "metadata": {},
   "outputs": [],
   "source": [
    "# 2nd Step: Saving the frequency of each word\n",
    "def get_freqs(df):\n",
    "    # Declare an empty dictionary\n",
    "    freqs = defaultdict(lambda:0)\n",
    "    \n",
    "    # Iterate dataframe to get indices and labels\n",
    "    for idx, row in df.iterrows():\n",
    "        tweet = row['tweet']\n",
    "        label = row['label']\n",
    "        \n",
    "        # Normalize the current tweet\n",
    "        tokens = text_normalize(tweet)\n",
    "        \n",
    "        # Iterate over each token (tuple)\n",
    "        for token in tokens:\n",
    "            pair = (token, label)\n",
    "            freqs[pair] += 1\n",
    "    \n",
    "    return freqs    "
   ]
  },
  {
   "cell_type": "code",
   "execution_count": 5,
   "metadata": {},
   "outputs": [],
   "source": [
    "# 3rd Step: Building the characteristics vector\n",
    "def get_feature(text, freqs):\n",
    "    # Normalize the current tweet\n",
    "    tokens = text_normalize(text)\n",
    "    \n",
    "    # Initialize a zero-vector size 3 (intercept, n_positives, n_negatives). X[0] is intercept, which is 1\n",
    "    X = np.zeros(3)\n",
    "    X[0] = 1\n",
    "    \n",
    "    # Iterate over each token, then add frequency to each label\n",
    "    for token in tokens:\n",
    "        X[1] += freqs[(token, 0)]\n",
    "        X[2] += freqs[(token, 1)]\n",
    "    \n",
    "    return X"
   ]
  },
  {
   "cell_type": "code",
   "execution_count": 6,
   "metadata": {},
   "outputs": [],
   "source": [
    "# 4th: Get the final output\n",
    "X = []\n",
    "y = []\n",
    "\n",
    "freqs = get_freqs(df)\n",
    "\n",
    "for idx, row in df.iterrows():\n",
    "    tweet = row['tweet']\n",
    "    label = row['label']\n",
    "    \n",
    "    X_i = get_feature(tweet,freqs)\n",
    "    \n",
    "    X.append(X_i)\n",
    "    y.append(label)\n",
    "\n",
    "X = np.array(X)\n",
    "y = np.array(y)"
   ]
  },
  {
   "cell_type": "markdown",
   "metadata": {},
   "source": [
    "SPLIT DATASET FOR TRAIN/VAL/TEST"
   ]
  },
  {
   "cell_type": "code",
   "execution_count": 7,
   "metadata": {},
   "outputs": [],
   "source": [
    "# Parameters for train/val/test\n",
    "val_size = 0.2\n",
    "test_size = 0.125\n",
    "random_state = 2\n",
    "is_shuffle = True"
   ]
  },
  {
   "cell_type": "code",
   "execution_count": 8,
   "metadata": {},
   "outputs": [
    {
     "data": {
      "text/plain": [
       "((6336, 3), (1584, 3), (6336,), (1584,))"
      ]
     },
     "execution_count": 8,
     "metadata": {},
     "output_type": "execute_result"
    }
   ],
   "source": [
    "# Validation set\n",
    "X_train, X_val, y_train, y_val = train_test_split(\n",
    "    X, y, test_size = val_size, random_state = random_state, shuffle = is_shuffle\n",
    ")\n",
    "\n",
    "X_train.shape, X_val.shape, y_train.shape, y_val.shape"
   ]
  },
  {
   "cell_type": "code",
   "execution_count": 9,
   "metadata": {},
   "outputs": [
    {
     "data": {
      "text/plain": [
       "((5544, 3), (792, 3), (5544,), (792,))"
      ]
     },
     "execution_count": 9,
     "metadata": {},
     "output_type": "execute_result"
    }
   ],
   "source": [
    "# Testing set\n",
    "X_train, X_test, y_train, y_test = train_test_split(\n",
    "    X_train, y_train, test_size = test_size, random_state = random_state, shuffle = is_shuffle\n",
    ")\n",
    "\n",
    "X_train.shape, X_test.shape, y_train.shape, y_test.shape"
   ]
  },
  {
   "cell_type": "markdown",
   "metadata": {},
   "source": [
    "NORMALIZE THE DATA"
   ]
  },
  {
   "cell_type": "code",
   "execution_count": 10,
   "metadata": {},
   "outputs": [],
   "source": [
    "normalizer = StandardScaler()\n",
    "X_train[:, 1:] = normalizer.fit_transform(X_train[:, 1:])\n",
    "X_val[:, 1:] = normalizer.fit_transform(X_val[:, 1:])\n",
    "X_test[:, 1:] = normalizer.fit_transform(X_test[:, 1:])"
   ]
  },
  {
   "cell_type": "markdown",
   "metadata": {},
   "source": [
    "IMPORT ESSENTIAL FUNCTIONS FOR THIS MODEL"
   ]
  },
  {
   "cell_type": "code",
   "execution_count": 11,
   "metadata": {},
   "outputs": [],
   "source": [
    "# Sigmoid function\n",
    "def sigmoid(x):\n",
    "    z = 1/(1 + np.exp(-x))\n",
    "    return z"
   ]
  },
  {
   "cell_type": "code",
   "execution_count": 12,
   "metadata": {},
   "outputs": [],
   "source": [
    "# Predict the output\n",
    "def predict(X, theta):\n",
    "    z = np.dot(X, theta)\n",
    "    y_hat = sigmoid(z)\n",
    "    return y_hat"
   ]
  },
  {
   "cell_type": "code",
   "execution_count": 13,
   "metadata": {},
   "outputs": [],
   "source": [
    "# Compute loss\n",
    "def compute_loss(y_hat, y):\n",
    "    y_hat = np.clip(y_hat, 1e-7, 1 - 1e-7)\n",
    "    loss = (y * np.log(y_hat) + (1 - y) * np.log(1 - y_hat)).mean()\n",
    "    return -loss"
   ]
  },
  {
   "cell_type": "code",
   "execution_count": 14,
   "metadata": {},
   "outputs": [],
   "source": [
    "# Compute gradient\n",
    "def compute_gradient(X, y_hat, y):\n",
    "    N = y.size \n",
    "    gradient = np.dot(X.T, y_hat - y)\n",
    "    return gradient/N"
   ]
  },
  {
   "cell_type": "code",
   "execution_count": 15,
   "metadata": {},
   "outputs": [],
   "source": [
    "# Update theta\n",
    "def update_theta(theta, gradient, lr):\n",
    "    theta = theta - lr*gradient\n",
    "    return theta"
   ]
  },
  {
   "cell_type": "code",
   "execution_count": 16,
   "metadata": {},
   "outputs": [],
   "source": [
    "# Compute accuracy\n",
    "def compute_accuracy(X, y, theta):\n",
    "    y_hat = predict(X, theta).round()\n",
    "    accuracy = (y_hat == y).mean()\n",
    "    return accuracy"
   ]
  },
  {
   "cell_type": "markdown",
   "metadata": {},
   "source": [
    "TRAINING THE MODEL"
   ]
  },
  {
   "cell_type": "code",
   "execution_count": 17,
   "metadata": {},
   "outputs": [],
   "source": [
    "# Declare the hyperparameters\n",
    "lr = 0.01\n",
    "epochs = 200\n",
    "batch_size = 128\n",
    "\n",
    "np.random.seed(random_state)\n",
    "theta = np.random.uniform(size = X_train.shape[1])"
   ]
  },
  {
   "cell_type": "code",
   "execution_count": 18,
   "metadata": {},
   "outputs": [
    {
     "name": "stdout",
     "output_type": "stream",
     "text": [
      "\tEpoch: 1:\tTraining batch loss: 0.556 \tValidation batch loss: 0.700\n",
      "\tEpoch: 2:\tTraining batch loss: 0.631 \tValidation batch loss: 0.654\n",
      "\tEpoch: 3:\tTraining batch loss: 0.692 \tValidation batch loss: 0.618\n",
      "\tEpoch: 4:\tTraining batch loss: 0.733 \tValidation batch loss: 0.587\n",
      "\tEpoch: 5:\tTraining batch loss: 0.761 \tValidation batch loss: 0.563\n",
      "\tEpoch: 6:\tTraining batch loss: 0.775 \tValidation batch loss: 0.542\n",
      "\tEpoch: 7:\tTraining batch loss: 0.785 \tValidation batch loss: 0.525\n",
      "\tEpoch: 8:\tTraining batch loss: 0.793 \tValidation batch loss: 0.511\n",
      "\tEpoch: 9:\tTraining batch loss: 0.797 \tValidation batch loss: 0.499\n",
      "\tEpoch: 10:\tTraining batch loss: 0.802 \tValidation batch loss: 0.489\n",
      "\tEpoch: 11:\tTraining batch loss: 0.806 \tValidation batch loss: 0.480\n",
      "\tEpoch: 12:\tTraining batch loss: 0.809 \tValidation batch loss: 0.473\n",
      "\tEpoch: 13:\tTraining batch loss: 0.809 \tValidation batch loss: 0.466\n",
      "\tEpoch: 14:\tTraining batch loss: 0.811 \tValidation batch loss: 0.461\n",
      "\tEpoch: 15:\tTraining batch loss: 0.811 \tValidation batch loss: 0.456\n",
      "\tEpoch: 16:\tTraining batch loss: 0.811 \tValidation batch loss: 0.451\n",
      "\tEpoch: 17:\tTraining batch loss: 0.812 \tValidation batch loss: 0.448\n",
      "\tEpoch: 18:\tTraining batch loss: 0.810 \tValidation batch loss: 0.444\n",
      "\tEpoch: 19:\tTraining batch loss: 0.810 \tValidation batch loss: 0.441\n",
      "\tEpoch: 20:\tTraining batch loss: 0.809 \tValidation batch loss: 0.438\n",
      "\tEpoch: 21:\tTraining batch loss: 0.809 \tValidation batch loss: 0.436\n",
      "\tEpoch: 22:\tTraining batch loss: 0.808 \tValidation batch loss: 0.433\n",
      "\tEpoch: 23:\tTraining batch loss: 0.808 \tValidation batch loss: 0.431\n",
      "\tEpoch: 24:\tTraining batch loss: 0.808 \tValidation batch loss: 0.429\n",
      "\tEpoch: 25:\tTraining batch loss: 0.808 \tValidation batch loss: 0.427\n",
      "\tEpoch: 26:\tTraining batch loss: 0.808 \tValidation batch loss: 0.426\n",
      "\tEpoch: 27:\tTraining batch loss: 0.808 \tValidation batch loss: 0.424\n",
      "\tEpoch: 28:\tTraining batch loss: 0.808 \tValidation batch loss: 0.423\n",
      "\tEpoch: 29:\tTraining batch loss: 0.808 \tValidation batch loss: 0.421\n",
      "\tEpoch: 30:\tTraining batch loss: 0.809 \tValidation batch loss: 0.420\n",
      "\tEpoch: 31:\tTraining batch loss: 0.809 \tValidation batch loss: 0.419\n",
      "\tEpoch: 32:\tTraining batch loss: 0.809 \tValidation batch loss: 0.418\n",
      "\tEpoch: 33:\tTraining batch loss: 0.809 \tValidation batch loss: 0.416\n",
      "\tEpoch: 34:\tTraining batch loss: 0.808 \tValidation batch loss: 0.415\n",
      "\tEpoch: 35:\tTraining batch loss: 0.809 \tValidation batch loss: 0.414\n",
      "\tEpoch: 36:\tTraining batch loss: 0.809 \tValidation batch loss: 0.413\n",
      "\tEpoch: 37:\tTraining batch loss: 0.808 \tValidation batch loss: 0.412\n",
      "\tEpoch: 38:\tTraining batch loss: 0.808 \tValidation batch loss: 0.411\n",
      "\tEpoch: 39:\tTraining batch loss: 0.809 \tValidation batch loss: 0.411\n",
      "\tEpoch: 40:\tTraining batch loss: 0.809 \tValidation batch loss: 0.410\n",
      "\tEpoch: 41:\tTraining batch loss: 0.810 \tValidation batch loss: 0.409\n",
      "\tEpoch: 42:\tTraining batch loss: 0.810 \tValidation batch loss: 0.408\n",
      "\tEpoch: 43:\tTraining batch loss: 0.810 \tValidation batch loss: 0.407\n",
      "\tEpoch: 44:\tTraining batch loss: 0.809 \tValidation batch loss: 0.407\n",
      "\tEpoch: 45:\tTraining batch loss: 0.810 \tValidation batch loss: 0.406\n",
      "\tEpoch: 46:\tTraining batch loss: 0.810 \tValidation batch loss: 0.405\n",
      "\tEpoch: 47:\tTraining batch loss: 0.810 \tValidation batch loss: 0.405\n",
      "\tEpoch: 48:\tTraining batch loss: 0.811 \tValidation batch loss: 0.404\n",
      "\tEpoch: 49:\tTraining batch loss: 0.811 \tValidation batch loss: 0.403\n",
      "\tEpoch: 50:\tTraining batch loss: 0.812 \tValidation batch loss: 0.403\n",
      "\tEpoch: 51:\tTraining batch loss: 0.812 \tValidation batch loss: 0.402\n",
      "\tEpoch: 52:\tTraining batch loss: 0.812 \tValidation batch loss: 0.401\n",
      "\tEpoch: 53:\tTraining batch loss: 0.812 \tValidation batch loss: 0.401\n",
      "\tEpoch: 54:\tTraining batch loss: 0.812 \tValidation batch loss: 0.400\n",
      "\tEpoch: 55:\tTraining batch loss: 0.813 \tValidation batch loss: 0.400\n",
      "\tEpoch: 56:\tTraining batch loss: 0.813 \tValidation batch loss: 0.399\n",
      "\tEpoch: 57:\tTraining batch loss: 0.814 \tValidation batch loss: 0.399\n",
      "\tEpoch: 58:\tTraining batch loss: 0.815 \tValidation batch loss: 0.398\n",
      "\tEpoch: 59:\tTraining batch loss: 0.815 \tValidation batch loss: 0.398\n",
      "\tEpoch: 60:\tTraining batch loss: 0.815 \tValidation batch loss: 0.397\n",
      "\tEpoch: 61:\tTraining batch loss: 0.815 \tValidation batch loss: 0.397\n",
      "\tEpoch: 62:\tTraining batch loss: 0.815 \tValidation batch loss: 0.396\n",
      "\tEpoch: 63:\tTraining batch loss: 0.815 \tValidation batch loss: 0.396\n",
      "\tEpoch: 64:\tTraining batch loss: 0.815 \tValidation batch loss: 0.395\n",
      "\tEpoch: 65:\tTraining batch loss: 0.815 \tValidation batch loss: 0.395\n",
      "\tEpoch: 66:\tTraining batch loss: 0.815 \tValidation batch loss: 0.395\n",
      "\tEpoch: 67:\tTraining batch loss: 0.816 \tValidation batch loss: 0.394\n",
      "\tEpoch: 68:\tTraining batch loss: 0.816 \tValidation batch loss: 0.394\n",
      "\tEpoch: 69:\tTraining batch loss: 0.816 \tValidation batch loss: 0.393\n",
      "\tEpoch: 70:\tTraining batch loss: 0.816 \tValidation batch loss: 0.393\n",
      "\tEpoch: 71:\tTraining batch loss: 0.817 \tValidation batch loss: 0.393\n",
      "\tEpoch: 72:\tTraining batch loss: 0.817 \tValidation batch loss: 0.392\n",
      "\tEpoch: 73:\tTraining batch loss: 0.817 \tValidation batch loss: 0.392\n",
      "\tEpoch: 74:\tTraining batch loss: 0.818 \tValidation batch loss: 0.392\n",
      "\tEpoch: 75:\tTraining batch loss: 0.817 \tValidation batch loss: 0.391\n",
      "\tEpoch: 76:\tTraining batch loss: 0.817 \tValidation batch loss: 0.391\n",
      "\tEpoch: 77:\tTraining batch loss: 0.817 \tValidation batch loss: 0.391\n",
      "\tEpoch: 78:\tTraining batch loss: 0.817 \tValidation batch loss: 0.390\n",
      "\tEpoch: 79:\tTraining batch loss: 0.817 \tValidation batch loss: 0.390\n",
      "\tEpoch: 80:\tTraining batch loss: 0.817 \tValidation batch loss: 0.390\n",
      "\tEpoch: 81:\tTraining batch loss: 0.817 \tValidation batch loss: 0.389\n",
      "\tEpoch: 82:\tTraining batch loss: 0.817 \tValidation batch loss: 0.389\n",
      "\tEpoch: 83:\tTraining batch loss: 0.818 \tValidation batch loss: 0.389\n",
      "\tEpoch: 84:\tTraining batch loss: 0.818 \tValidation batch loss: 0.389\n",
      "\tEpoch: 85:\tTraining batch loss: 0.818 \tValidation batch loss: 0.388\n",
      "\tEpoch: 86:\tTraining batch loss: 0.818 \tValidation batch loss: 0.388\n",
      "\tEpoch: 87:\tTraining batch loss: 0.817 \tValidation batch loss: 0.388\n",
      "\tEpoch: 88:\tTraining batch loss: 0.817 \tValidation batch loss: 0.387\n",
      "\tEpoch: 89:\tTraining batch loss: 0.818 \tValidation batch loss: 0.387\n",
      "\tEpoch: 90:\tTraining batch loss: 0.818 \tValidation batch loss: 0.387\n",
      "\tEpoch: 91:\tTraining batch loss: 0.817 \tValidation batch loss: 0.387\n",
      "\tEpoch: 92:\tTraining batch loss: 0.817 \tValidation batch loss: 0.386\n",
      "\tEpoch: 93:\tTraining batch loss: 0.817 \tValidation batch loss: 0.386\n",
      "\tEpoch: 94:\tTraining batch loss: 0.817 \tValidation batch loss: 0.386\n",
      "\tEpoch: 95:\tTraining batch loss: 0.817 \tValidation batch loss: 0.386\n",
      "\tEpoch: 96:\tTraining batch loss: 0.817 \tValidation batch loss: 0.386\n",
      "\tEpoch: 97:\tTraining batch loss: 0.817 \tValidation batch loss: 0.385\n",
      "\tEpoch: 98:\tTraining batch loss: 0.817 \tValidation batch loss: 0.385\n",
      "\tEpoch: 99:\tTraining batch loss: 0.817 \tValidation batch loss: 0.385\n",
      "\tEpoch: 100:\tTraining batch loss: 0.817 \tValidation batch loss: 0.385\n",
      "\tEpoch: 101:\tTraining batch loss: 0.817 \tValidation batch loss: 0.384\n",
      "\tEpoch: 102:\tTraining batch loss: 0.816 \tValidation batch loss: 0.384\n",
      "\tEpoch: 103:\tTraining batch loss: 0.817 \tValidation batch loss: 0.384\n",
      "\tEpoch: 104:\tTraining batch loss: 0.816 \tValidation batch loss: 0.384\n",
      "\tEpoch: 105:\tTraining batch loss: 0.817 \tValidation batch loss: 0.384\n",
      "\tEpoch: 106:\tTraining batch loss: 0.817 \tValidation batch loss: 0.384\n",
      "\tEpoch: 107:\tTraining batch loss: 0.817 \tValidation batch loss: 0.383\n",
      "\tEpoch: 108:\tTraining batch loss: 0.817 \tValidation batch loss: 0.383\n",
      "\tEpoch: 109:\tTraining batch loss: 0.818 \tValidation batch loss: 0.383\n",
      "\tEpoch: 110:\tTraining batch loss: 0.818 \tValidation batch loss: 0.383\n",
      "\tEpoch: 111:\tTraining batch loss: 0.817 \tValidation batch loss: 0.383\n",
      "\tEpoch: 112:\tTraining batch loss: 0.818 \tValidation batch loss: 0.382\n",
      "\tEpoch: 113:\tTraining batch loss: 0.818 \tValidation batch loss: 0.382\n",
      "\tEpoch: 114:\tTraining batch loss: 0.818 \tValidation batch loss: 0.382\n",
      "\tEpoch: 115:\tTraining batch loss: 0.818 \tValidation batch loss: 0.382\n",
      "\tEpoch: 116:\tTraining batch loss: 0.818 \tValidation batch loss: 0.382\n",
      "\tEpoch: 117:\tTraining batch loss: 0.819 \tValidation batch loss: 0.382\n",
      "\tEpoch: 118:\tTraining batch loss: 0.819 \tValidation batch loss: 0.381\n",
      "\tEpoch: 119:\tTraining batch loss: 0.819 \tValidation batch loss: 0.381\n",
      "\tEpoch: 120:\tTraining batch loss: 0.819 \tValidation batch loss: 0.381\n",
      "\tEpoch: 121:\tTraining batch loss: 0.819 \tValidation batch loss: 0.381\n",
      "\tEpoch: 122:\tTraining batch loss: 0.819 \tValidation batch loss: 0.381\n",
      "\tEpoch: 123:\tTraining batch loss: 0.819 \tValidation batch loss: 0.381\n",
      "\tEpoch: 124:\tTraining batch loss: 0.819 \tValidation batch loss: 0.381\n",
      "\tEpoch: 125:\tTraining batch loss: 0.819 \tValidation batch loss: 0.380\n",
      "\tEpoch: 126:\tTraining batch loss: 0.819 \tValidation batch loss: 0.380\n",
      "\tEpoch: 127:\tTraining batch loss: 0.819 \tValidation batch loss: 0.380\n",
      "\tEpoch: 128:\tTraining batch loss: 0.819 \tValidation batch loss: 0.380\n",
      "\tEpoch: 129:\tTraining batch loss: 0.820 \tValidation batch loss: 0.380\n",
      "\tEpoch: 130:\tTraining batch loss: 0.820 \tValidation batch loss: 0.380\n",
      "\tEpoch: 131:\tTraining batch loss: 0.820 \tValidation batch loss: 0.380\n",
      "\tEpoch: 132:\tTraining batch loss: 0.820 \tValidation batch loss: 0.380\n",
      "\tEpoch: 133:\tTraining batch loss: 0.820 \tValidation batch loss: 0.379\n",
      "\tEpoch: 134:\tTraining batch loss: 0.820 \tValidation batch loss: 0.379\n",
      "\tEpoch: 135:\tTraining batch loss: 0.820 \tValidation batch loss: 0.379\n",
      "\tEpoch: 136:\tTraining batch loss: 0.820 \tValidation batch loss: 0.379\n",
      "\tEpoch: 137:\tTraining batch loss: 0.820 \tValidation batch loss: 0.379\n",
      "\tEpoch: 138:\tTraining batch loss: 0.820 \tValidation batch loss: 0.379\n",
      "\tEpoch: 139:\tTraining batch loss: 0.820 \tValidation batch loss: 0.379\n",
      "\tEpoch: 140:\tTraining batch loss: 0.820 \tValidation batch loss: 0.379\n",
      "\tEpoch: 141:\tTraining batch loss: 0.820 \tValidation batch loss: 0.379\n",
      "\tEpoch: 142:\tTraining batch loss: 0.820 \tValidation batch loss: 0.378\n",
      "\tEpoch: 143:\tTraining batch loss: 0.820 \tValidation batch loss: 0.378\n",
      "\tEpoch: 144:\tTraining batch loss: 0.820 \tValidation batch loss: 0.378\n",
      "\tEpoch: 145:\tTraining batch loss: 0.820 \tValidation batch loss: 0.378\n",
      "\tEpoch: 146:\tTraining batch loss: 0.820 \tValidation batch loss: 0.378\n",
      "\tEpoch: 147:\tTraining batch loss: 0.820 \tValidation batch loss: 0.378\n",
      "\tEpoch: 148:\tTraining batch loss: 0.820 \tValidation batch loss: 0.378\n",
      "\tEpoch: 149:\tTraining batch loss: 0.820 \tValidation batch loss: 0.378\n",
      "\tEpoch: 150:\tTraining batch loss: 0.820 \tValidation batch loss: 0.378\n",
      "\tEpoch: 151:\tTraining batch loss: 0.820 \tValidation batch loss: 0.378\n",
      "\tEpoch: 152:\tTraining batch loss: 0.820 \tValidation batch loss: 0.378\n",
      "\tEpoch: 153:\tTraining batch loss: 0.820 \tValidation batch loss: 0.377\n",
      "\tEpoch: 154:\tTraining batch loss: 0.820 \tValidation batch loss: 0.377\n",
      "\tEpoch: 155:\tTraining batch loss: 0.820 \tValidation batch loss: 0.377\n",
      "\tEpoch: 156:\tTraining batch loss: 0.820 \tValidation batch loss: 0.377\n",
      "\tEpoch: 157:\tTraining batch loss: 0.820 \tValidation batch loss: 0.377\n",
      "\tEpoch: 158:\tTraining batch loss: 0.820 \tValidation batch loss: 0.377\n",
      "\tEpoch: 159:\tTraining batch loss: 0.820 \tValidation batch loss: 0.377\n",
      "\tEpoch: 160:\tTraining batch loss: 0.821 \tValidation batch loss: 0.377\n",
      "\tEpoch: 161:\tTraining batch loss: 0.821 \tValidation batch loss: 0.377\n",
      "\tEpoch: 162:\tTraining batch loss: 0.821 \tValidation batch loss: 0.377\n",
      "\tEpoch: 163:\tTraining batch loss: 0.821 \tValidation batch loss: 0.377\n",
      "\tEpoch: 164:\tTraining batch loss: 0.821 \tValidation batch loss: 0.377\n",
      "\tEpoch: 165:\tTraining batch loss: 0.821 \tValidation batch loss: 0.376\n",
      "\tEpoch: 166:\tTraining batch loss: 0.822 \tValidation batch loss: 0.376\n",
      "\tEpoch: 167:\tTraining batch loss: 0.822 \tValidation batch loss: 0.376\n",
      "\tEpoch: 168:\tTraining batch loss: 0.822 \tValidation batch loss: 0.376\n",
      "\tEpoch: 169:\tTraining batch loss: 0.821 \tValidation batch loss: 0.376\n",
      "\tEpoch: 170:\tTraining batch loss: 0.821 \tValidation batch loss: 0.376\n",
      "\tEpoch: 171:\tTraining batch loss: 0.821 \tValidation batch loss: 0.376\n",
      "\tEpoch: 172:\tTraining batch loss: 0.821 \tValidation batch loss: 0.376\n",
      "\tEpoch: 173:\tTraining batch loss: 0.821 \tValidation batch loss: 0.376\n",
      "\tEpoch: 174:\tTraining batch loss: 0.821 \tValidation batch loss: 0.376\n",
      "\tEpoch: 175:\tTraining batch loss: 0.821 \tValidation batch loss: 0.376\n",
      "\tEpoch: 176:\tTraining batch loss: 0.821 \tValidation batch loss: 0.376\n",
      "\tEpoch: 177:\tTraining batch loss: 0.821 \tValidation batch loss: 0.376\n",
      "\tEpoch: 178:\tTraining batch loss: 0.821 \tValidation batch loss: 0.376\n",
      "\tEpoch: 179:\tTraining batch loss: 0.822 \tValidation batch loss: 0.376\n",
      "\tEpoch: 180:\tTraining batch loss: 0.822 \tValidation batch loss: 0.375\n",
      "\tEpoch: 181:\tTraining batch loss: 0.822 \tValidation batch loss: 0.375\n",
      "\tEpoch: 182:\tTraining batch loss: 0.822 \tValidation batch loss: 0.375\n",
      "\tEpoch: 183:\tTraining batch loss: 0.822 \tValidation batch loss: 0.375\n",
      "\tEpoch: 184:\tTraining batch loss: 0.822 \tValidation batch loss: 0.375\n",
      "\tEpoch: 185:\tTraining batch loss: 0.822 \tValidation batch loss: 0.375\n",
      "\tEpoch: 186:\tTraining batch loss: 0.822 \tValidation batch loss: 0.375\n",
      "\tEpoch: 187:\tTraining batch loss: 0.822 \tValidation batch loss: 0.375\n",
      "\tEpoch: 188:\tTraining batch loss: 0.822 \tValidation batch loss: 0.375\n",
      "\tEpoch: 189:\tTraining batch loss: 0.822 \tValidation batch loss: 0.375\n",
      "\tEpoch: 190:\tTraining batch loss: 0.822 \tValidation batch loss: 0.375\n",
      "\tEpoch: 191:\tTraining batch loss: 0.822 \tValidation batch loss: 0.375\n",
      "\tEpoch: 192:\tTraining batch loss: 0.822 \tValidation batch loss: 0.375\n",
      "\tEpoch: 193:\tTraining batch loss: 0.822 \tValidation batch loss: 0.375\n",
      "\tEpoch: 194:\tTraining batch loss: 0.822 \tValidation batch loss: 0.375\n",
      "\tEpoch: 195:\tTraining batch loss: 0.822 \tValidation batch loss: 0.375\n",
      "\tEpoch: 196:\tTraining batch loss: 0.822 \tValidation batch loss: 0.375\n",
      "\tEpoch: 197:\tTraining batch loss: 0.822 \tValidation batch loss: 0.375\n",
      "\tEpoch: 198:\tTraining batch loss: 0.822 \tValidation batch loss: 0.375\n",
      "\tEpoch: 199:\tTraining batch loss: 0.823 \tValidation batch loss: 0.374\n",
      "\tEpoch: 200:\tTraining batch loss: 0.823 \tValidation batch loss: 0.374\n"
     ]
    }
   ],
   "source": [
    "# Training model\n",
    "train_accs = []\n",
    "val_accs = []\n",
    "train_losses = []\n",
    "val_losses = []\n",
    "\n",
    "for epoch in range(epochs):\n",
    "    train_batch_losses = []\n",
    "    train_batch_accs = []\n",
    "    val_batch_losses = []\n",
    "    val_batch_accs = []\n",
    "    \n",
    "    for i in range(0, X_train.shape[0], batch_size):\n",
    "        X_i = X_train[i:i+batch_size]\n",
    "        y_i = y_train[i:i+batch_size]\n",
    "        \n",
    "        ##### Training set #####\n",
    "        \n",
    "        # Predict output\n",
    "        y_hat = predict(X_i, theta)\n",
    "        \n",
    "        # Compute loss\n",
    "        train_loss = compute_loss(y_hat, y_i)\n",
    "        train_batch_losses.append(train_loss)\n",
    "        \n",
    "        # Compute gradient\n",
    "        gradient = compute_gradient(X_i, y_hat, y_i)\n",
    "        \n",
    "        # Update theta\n",
    "        theta = update_theta(theta, gradient, lr)\n",
    "        \n",
    "        # Compute accuracy\n",
    "        train_acc = compute_accuracy(X_train, y_train, theta)\n",
    "        train_batch_accs.append(train_acc)\n",
    "        \n",
    "        ##### Validation set #####\n",
    "        \n",
    "        # Predict output\n",
    "        y_val_hat = predict(X_val, theta)\n",
    "        \n",
    "        # Compute loss\n",
    "        val_loss = compute_loss(y_val_hat, y_val)\n",
    "        val_batch_losses.append(val_loss)\n",
    "        \n",
    "        # Compute accuracy\n",
    "        val_acc = compute_accuracy(X_val, y_val, theta)\n",
    "        val_batch_accs.append(val_acc)\n",
    "    \n",
    "    # Training set\n",
    "    train_batch_acc = sum(train_batch_accs)/len(train_batch_accs)\n",
    "    train_accs.append(train_batch_acc)\n",
    "    train_batch_loss = sum(train_batch_losses)/len(train_batch_losses)\n",
    "    train_losses.append(train_batch_loss)\n",
    "    \n",
    "    # Validation set\n",
    "    val_batch_acc = sum(val_batch_accs)/len(val_batch_accs)\n",
    "    val_accs.append(val_batch_acc)\n",
    "    val_batch_loss = sum(val_batch_losses)/len(val_batch_losses)\n",
    "    val_losses.append(val_batch_loss)\n",
    "    \n",
    "    # Printing the result\n",
    "    print(f'\\tEpoch: {epoch + 1}:\\tTraining batch loss: {train_batch_acc:.3f} \\tValidation batch loss: {val_batch_loss:.3f}')"
   ]
  },
  {
   "cell_type": "markdown",
   "metadata": {},
   "source": [
    "PLOT THE FIGURES"
   ]
  },
  {
   "cell_type": "code",
   "execution_count": 19,
   "metadata": {},
   "outputs": [
    {
     "data": {
      "image/png": "[encoded data removed]",
      "text/plain": [
       "<Figure size 864x720 with 4 Axes>"
      ]
     },
     "metadata": {
      "needs_background": "light"
     },
     "output_type": "display_data"
    }
   ],
   "source": [
    "fig, ax = plt.subplots(2,2,figsize = (12,10))\n",
    "\n",
    "ax[0,0].plot(train_losses, 'green')\n",
    "ax[0,0].set(xlabel = 'Epoch', ylabel = 'Loss')\n",
    "ax[0,0].set_title('Training Loss')\n",
    "\n",
    "ax[0,1].plot(val_losses, 'orange')\n",
    "ax[0,1].set(xlabel = 'Epoch', ylabel = 'Loss')\n",
    "ax[0,1].set_title('Validation Loss')\n",
    "\n",
    "ax[1,0].plot(train_accs, 'green')\n",
    "ax[1,0].set(xlabel = 'Epoch', ylabel = 'Accuracy')\n",
    "ax[1,0].set_title('Training Accuracy')\n",
    "\n",
    "ax[1,1].plot(val_accs, 'orange')\n",
    "ax[1,1].set(xlabel = 'Epoch', ylabel = 'Accuracy')\n",
    "ax[1,1].set_title('Training Accuracy')\n",
    "\n",
    "plt.show()"
   ]
  },
  {
   "cell_type": "markdown",
   "metadata": {},
   "source": [
    "EVALUATE THE MODEL"
   ]
  },
  {
   "cell_type": "code",
   "execution_count": 20,
   "metadata": {},
   "outputs": [
    {
     "name": "stdout",
     "output_type": "stream",
     "text": [
      "Evaluation on two sets:\n",
      "Validation set: 0.8175505050505051\n",
      "Testing set: 0.8446969696969697\n"
     ]
    }
   ],
   "source": [
    "val_set_acc = compute_accuracy(X_val, y_val, theta)\n",
    "test_set_acc = compute_accuracy(X_test, y_test, theta)\n",
    "print('Evaluation on two sets:')\n",
    "print(f'Validation set: {val_set_acc}')\n",
    "print(f'Testing set: {test_set_acc}')"
   ]
  }
 ],
 "metadata": {
  "kernelspec": {
   "display_name": "Python 3",
   "language": "python",
   "name": "python3"
  },
  "language_info": {
   "codemirror_mode": {
    "name": "ipython",
    "version": 3
   },
   "file_extension": ".py",
   "mimetype": "text/x-python",
   "name": "python",
   "nbconvert_exporter": "python",
   "pygments_lexer": "ipython3",
   "version": "3.8.5"
  }
 },
 "nbformat": 4,
 "nbformat_minor": 4
}
