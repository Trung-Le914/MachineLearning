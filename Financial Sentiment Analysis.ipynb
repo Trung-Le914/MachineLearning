{
 "cells": [
  {
   "cell_type": "markdown",
   "metadata": {},
   "source": [
    "# The dataset can be downloaded from the following Kaggle link:\n",
    "# https://www.kaggle.com/datasets/sbhatti/financial-sentiment-analysis"
   ]
  },
  {
   "cell_type": "code",
   "execution_count": 1,
   "metadata": {},
   "outputs": [
    {
     "name": "stderr",
     "output_type": "stream",
     "text": [
      "/opt/anaconda3/lib/python3.8/site-packages/pandas/core/computation/expressions.py:20: UserWarning: Pandas requires version '2.7.3' or newer of 'numexpr' (version '2.7.1' currently installed).\n",
      "  from pandas.core.computation.check import NUMEXPR_INSTALLED\n",
      "[nltk_data] Downloading package stopwords to\n",
      "[nltk_data]     /Users/trungle/nltk_data...\n",
      "[nltk_data]   Package stopwords is already up-to-date!\n"
     ]
    }
   ],
   "source": [
    "import pandas as pd\n",
    "import numpy as np\n",
    "import matplotlib.pyplot as plt\n",
    "import re\n",
    "import nltk\n",
    "nltk.download('stopwords')\n",
    "from sklearn.model_selection import train_test_split\n",
    "from sklearn.preprocessing import StandardScaler, OrdinalEncoder\n",
    "from sklearn.feature_extraction.text import TfidfVectorizer\n",
    "from nltk.corpus import stopwords\n",
    "from nltk.stem import SnowballStemmer"
   ]
  },
  {
   "cell_type": "markdown",
   "metadata": {},
   "source": [
    "READING DATASET"
   ]
  },
  {
   "cell_type": "code",
   "execution_count": 2,
   "metadata": {},
   "outputs": [
    {
     "data": {
      "text/html": [
       "<div>\n",
       "<style scoped>\n",
       "    .dataframe tbody tr th:only-of-type {\n",
       "        vertical-align: middle;\n",
       "    }\n",
       "\n",
       "    .dataframe tbody tr th {\n",
       "        vertical-align: top;\n",
       "    }\n",
       "\n",
       "    .dataframe thead th {\n",
       "        text-align: right;\n",
       "    }\n",
       "</style>\n",
       "<table border=\"1\" class=\"dataframe\">\n",
       "  <thead>\n",
       "    <tr style=\"text-align: right;\">\n",
       "      <th></th>\n",
       "      <th>Sentence</th>\n",
       "      <th>Sentiment</th>\n",
       "    </tr>\n",
       "  </thead>\n",
       "  <tbody>\n",
       "    <tr>\n",
       "      <th>0</th>\n",
       "      <td>The GeoSolutions technology will leverage Bene...</td>\n",
       "      <td>positive</td>\n",
       "    </tr>\n",
       "    <tr>\n",
       "      <th>1</th>\n",
       "      <td>$ESI on lows, down $1.50 to $2.50 BK a real po...</td>\n",
       "      <td>negative</td>\n",
       "    </tr>\n",
       "    <tr>\n",
       "      <th>2</th>\n",
       "      <td>For the last quarter of 2010 , Componenta 's n...</td>\n",
       "      <td>positive</td>\n",
       "    </tr>\n",
       "    <tr>\n",
       "      <th>3</th>\n",
       "      <td>According to the Finnish-Russian Chamber of Co...</td>\n",
       "      <td>neutral</td>\n",
       "    </tr>\n",
       "    <tr>\n",
       "      <th>4</th>\n",
       "      <td>The Swedish buyout firm has sold its remaining...</td>\n",
       "      <td>neutral</td>\n",
       "    </tr>\n",
       "  </tbody>\n",
       "</table>\n",
       "</div>"
      ],
      "text/plain": [
       "                                            Sentence Sentiment\n",
       "0  The GeoSolutions technology will leverage Bene...  positive\n",
       "1  $ESI on lows, down $1.50 to $2.50 BK a real po...  negative\n",
       "2  For the last quarter of 2010 , Componenta 's n...  positive\n",
       "3  According to the Finnish-Russian Chamber of Co...   neutral\n",
       "4  The Swedish buyout firm has sold its remaining...   neutral"
      ]
     },
     "execution_count": 2,
     "metadata": {},
     "output_type": "execute_result"
    }
   ],
   "source": [
    "dataset_path = '/kaggle/input/financial-sentiment-analysis/data.csv'\n",
    "data = pd.read_csv(dataset_path)\n",
    "data.head()"
   ]
  },
  {
   "cell_type": "code",
   "execution_count": 3,
   "metadata": {},
   "outputs": [
    {
     "data": {
      "text/plain": [
       "Sentence     0\n",
       "Sentiment    0\n",
       "dtype: int64"
      ]
     },
     "execution_count": 3,
     "metadata": {},
     "output_type": "execute_result"
    }
   ],
   "source": [
    "# Check whether null cells appear in the dataset\n",
    "data.isnull().sum()"
   ]
  },
  {
   "cell_type": "markdown",
   "metadata": {},
   "source": [
    "PREPROCESSING THE DATASET"
   ]
  },
  {
   "cell_type": "code",
   "execution_count": 4,
   "metadata": {},
   "outputs": [],
   "source": [
    "# Normalize the text\n",
    "def text_normalize(text):\n",
    "    # Lowercasing\n",
    "    text = text.lower()\n",
    "    \n",
    "    # Hyperlinks removal\n",
    "    text = re.sub(r'https?:\\/\\/.*[\\r\\n]*', '', text)\n",
    "    \n",
    "    # Punctuation removal\n",
    "    text = re.sub(r'[^\\w\\s]', '', text)\n",
    "    \n",
    "    # Remove stopwords\n",
    "    stop_words = set(stopwords.words('english'))\n",
    "    words = text.split()\n",
    "    words = [word for word in words if word not in stop_words]\n",
    "    text = ' '.join(words)\n",
    "    \n",
    "    # Stemming\n",
    "    stemmer = SnowballStemmer('english')\n",
    "    words = text.split()\n",
    "    words = [stemmer.stem(word) for word in words]\n",
    "    text = ' '.join(words)\n",
    "    \n",
    "    return text"
   ]
  },
  {
   "cell_type": "code",
   "execution_count": 5,
   "metadata": {},
   "outputs": [],
   "source": [
    "# Intialize Tfidf vectorize\n",
    "vectorizer = TfidfVectorizer(max_features = 2000)\n",
    "X = vectorizer.fit_transform(data['Sentence']).toarray()"
   ]
  },
  {
   "cell_type": "code",
   "execution_count": 6,
   "metadata": {},
   "outputs": [],
   "source": [
    "# Include bias to X\n",
    "intercepts = np.ones((X.shape[0], 1))\n",
    "X_b = np.concatenate((intercepts, X), axis = 1)"
   ]
  },
  {
   "cell_type": "code",
   "execution_count": 7,
   "metadata": {},
   "outputs": [],
   "source": [
    "# Convert the categorical values to numerical values\n",
    "data['Sentiment'] = data['Sentiment'].map({'positive': 1, 'neutral': 0, 'negative': -1})\n",
    "\n",
    "# One-hot_encoding\n",
    "n_classes = data['Sentiment'].nunique()\n",
    "n_samples = data['Sentiment'].size\n",
    "\n",
    "y = data['Sentiment'].to_numpy() + 1\n",
    "y = y.astype(np.uint8)\n",
    "y_encoded = np.array([np.zeros(n_classes) for _ in range(n_samples)])\n",
    "y_encoded[np.arange(n_samples), y] = 1"
   ]
  },
  {
   "cell_type": "markdown",
   "metadata": {},
   "source": [
    "TRAIN/TEST/VAL SPLIT"
   ]
  },
  {
   "cell_type": "code",
   "execution_count": 8,
   "metadata": {},
   "outputs": [],
   "source": [
    "# Hyperparameters\n",
    "val_size = 0.2\n",
    "test_size = 0.125\n",
    "random_state = 42\n",
    "is_shuffle = True"
   ]
  },
  {
   "cell_type": "code",
   "execution_count": 9,
   "metadata": {},
   "outputs": [
    {
     "data": {
      "text/plain": [
       "((4673, 2001), (1169, 2001), (4673, 3), (1169, 3))"
      ]
     },
     "execution_count": 9,
     "metadata": {},
     "output_type": "execute_result"
    }
   ],
   "source": [
    "X_train, X_val, y_train, y_val = train_test_split(\n",
    "    X_b, y_encoded, test_size = val_size, random_state = random_state, shuffle = is_shuffle\n",
    ")\n",
    "\n",
    "X_train.shape, X_val.shape, y_train.shape, y_val.shape"
   ]
  },
  {
   "cell_type": "code",
   "execution_count": 10,
   "metadata": {},
   "outputs": [
    {
     "data": {
      "text/plain": [
       "((4088, 2001), (585, 2001), (4088, 3), (585, 3))"
      ]
     },
     "execution_count": 10,
     "metadata": {},
     "output_type": "execute_result"
    }
   ],
   "source": [
    "X_train, X_test, y_train, y_test = train_test_split(\n",
    "    X_train, y_train, test_size = test_size, random_state = random_state, shuffle = is_shuffle\n",
    ")\n",
    "\n",
    "X_train.shape, X_test.shape, y_train.shape, y_test.shape"
   ]
  },
  {
   "cell_type": "markdown",
   "metadata": {},
   "source": [
    "FUNCTIONS USED IN THIS MODEL"
   ]
  },
  {
   "cell_type": "code",
   "execution_count": 11,
   "metadata": {},
   "outputs": [],
   "source": [
    "# Softmax function\n",
    "def softmax(z):\n",
    "    numerator = np.exp(z)\n",
    "    denominator = np.exp(z).sum(axis = 1)[:, None]\n",
    "    return numerator/denominator"
   ]
  },
  {
   "cell_type": "code",
   "execution_count": 12,
   "metadata": {},
   "outputs": [],
   "source": [
    "# Predict function\n",
    "def predict(X, theta):\n",
    "    z = np.dot(X, theta)\n",
    "    y_hat = softmax(z)\n",
    "    return y_hat"
   ]
  },
  {
   "cell_type": "code",
   "execution_count": 13,
   "metadata": {},
   "outputs": [],
   "source": [
    "# Compute Loss\n",
    "def compute_loss(y_hat, y):\n",
    "    N = y.size\n",
    "    loss = np.sum(y * np.log(y_hat))\n",
    "    return -(loss/N)"
   ]
  },
  {
   "cell_type": "code",
   "execution_count": 14,
   "metadata": {},
   "outputs": [],
   "source": [
    "# Compute gradient\n",
    "def compute_gradient(X, y_hat, y):\n",
    "    N = y.size\n",
    "    gradient = np.dot(X.T, y_hat - y)\n",
    "    return gradient/N"
   ]
  },
  {
   "cell_type": "code",
   "execution_count": 15,
   "metadata": {},
   "outputs": [],
   "source": [
    "# Update parameters\n",
    "def update_theta(theta, gradient, lr):\n",
    "    theta = theta - lr*gradient\n",
    "    return theta"
   ]
  },
  {
   "cell_type": "code",
   "execution_count": 16,
   "metadata": {},
   "outputs": [],
   "source": [
    "# Compute accuracy rate\n",
    "def compute_accuracy(X, y, theta):\n",
    "    y_hat = predict(X, theta)\n",
    "    accuracy = (np.argmax(y_hat, axis = 1) == np.argmax(y, axis = 1)).mean()\n",
    "    return accuracy"
   ]
  },
  {
   "cell_type": "markdown",
   "metadata": {},
   "source": [
    "SOFTMAX MODEL"
   ]
  },
  {
   "cell_type": "code",
   "execution_count": 17,
   "metadata": {},
   "outputs": [],
   "source": [
    "# Intialize the hyperparameters\n",
    "lr = 0.01\n",
    "epochs = 100\n",
    "batch_size = 32\n",
    "n_features = X_train.shape[1]\n",
    "np.random.seed(random_state)\n",
    "theta = np.random.uniform(size = (n_features, n_classes))"
   ]
  },
  {
   "cell_type": "code",
   "execution_count": 18,
   "metadata": {},
   "outputs": [
    {
     "name": "stdout",
     "output_type": "stream",
     "text": [
      "\tEpoch 1:\tTraining loss: 0.356 \tTraining Accuracy: 0.352\n",
      "\tEpoch 2:\tTraining loss: 0.353 \tTraining Accuracy: 0.349\n",
      "\tEpoch 3:\tTraining loss: 0.350 \tTraining Accuracy: 0.347\n",
      "\tEpoch 4:\tTraining loss: 0.349 \tTraining Accuracy: 0.345\n",
      "\tEpoch 5:\tTraining loss: 0.347 \tTraining Accuracy: 0.344\n",
      "\tEpoch 6:\tTraining loss: 0.346 \tTraining Accuracy: 0.343\n",
      "\tEpoch 7:\tTraining loss: 0.345 \tTraining Accuracy: 0.342\n",
      "\tEpoch 8:\tTraining loss: 0.345 \tTraining Accuracy: 0.341\n",
      "\tEpoch 9:\tTraining loss: 0.344 \tTraining Accuracy: 0.341\n",
      "\tEpoch 10:\tTraining loss: 0.343 \tTraining Accuracy: 0.340\n",
      "\tEpoch 11:\tTraining loss: 0.343 \tTraining Accuracy: 0.340\n",
      "\tEpoch 12:\tTraining loss: 0.343 \tTraining Accuracy: 0.339\n",
      "\tEpoch 13:\tTraining loss: 0.342 \tTraining Accuracy: 0.339\n",
      "\tEpoch 14:\tTraining loss: 0.342 \tTraining Accuracy: 0.339\n",
      "\tEpoch 15:\tTraining loss: 0.342 \tTraining Accuracy: 0.338\n",
      "\tEpoch 16:\tTraining loss: 0.341 \tTraining Accuracy: 0.338\n",
      "\tEpoch 17:\tTraining loss: 0.341 \tTraining Accuracy: 0.338\n",
      "\tEpoch 18:\tTraining loss: 0.341 \tTraining Accuracy: 0.338\n",
      "\tEpoch 19:\tTraining loss: 0.341 \tTraining Accuracy: 0.337\n",
      "\tEpoch 20:\tTraining loss: 0.341 \tTraining Accuracy: 0.337\n",
      "\tEpoch 21:\tTraining loss: 0.340 \tTraining Accuracy: 0.337\n",
      "\tEpoch 22:\tTraining loss: 0.340 \tTraining Accuracy: 0.337\n",
      "\tEpoch 23:\tTraining loss: 0.340 \tTraining Accuracy: 0.337\n",
      "\tEpoch 24:\tTraining loss: 0.340 \tTraining Accuracy: 0.337\n",
      "\tEpoch 25:\tTraining loss: 0.340 \tTraining Accuracy: 0.336\n",
      "\tEpoch 26:\tTraining loss: 0.339 \tTraining Accuracy: 0.336\n",
      "\tEpoch 27:\tTraining loss: 0.339 \tTraining Accuracy: 0.336\n",
      "\tEpoch 28:\tTraining loss: 0.339 \tTraining Accuracy: 0.336\n",
      "\tEpoch 29:\tTraining loss: 0.339 \tTraining Accuracy: 0.336\n",
      "\tEpoch 30:\tTraining loss: 0.339 \tTraining Accuracy: 0.336\n",
      "\tEpoch 31:\tTraining loss: 0.339 \tTraining Accuracy: 0.336\n",
      "\tEpoch 32:\tTraining loss: 0.338 \tTraining Accuracy: 0.335\n",
      "\tEpoch 33:\tTraining loss: 0.338 \tTraining Accuracy: 0.335\n",
      "\tEpoch 34:\tTraining loss: 0.338 \tTraining Accuracy: 0.335\n",
      "\tEpoch 35:\tTraining loss: 0.338 \tTraining Accuracy: 0.335\n",
      "\tEpoch 36:\tTraining loss: 0.338 \tTraining Accuracy: 0.335\n",
      "\tEpoch 37:\tTraining loss: 0.338 \tTraining Accuracy: 0.335\n",
      "\tEpoch 38:\tTraining loss: 0.338 \tTraining Accuracy: 0.335\n",
      "\tEpoch 39:\tTraining loss: 0.337 \tTraining Accuracy: 0.334\n",
      "\tEpoch 40:\tTraining loss: 0.337 \tTraining Accuracy: 0.334\n",
      "\tEpoch 41:\tTraining loss: 0.337 \tTraining Accuracy: 0.334\n",
      "\tEpoch 42:\tTraining loss: 0.337 \tTraining Accuracy: 0.334\n",
      "\tEpoch 43:\tTraining loss: 0.337 \tTraining Accuracy: 0.334\n",
      "\tEpoch 44:\tTraining loss: 0.337 \tTraining Accuracy: 0.334\n",
      "\tEpoch 45:\tTraining loss: 0.337 \tTraining Accuracy: 0.334\n",
      "\tEpoch 46:\tTraining loss: 0.336 \tTraining Accuracy: 0.334\n",
      "\tEpoch 47:\tTraining loss: 0.336 \tTraining Accuracy: 0.333\n",
      "\tEpoch 48:\tTraining loss: 0.336 \tTraining Accuracy: 0.333\n",
      "\tEpoch 49:\tTraining loss: 0.336 \tTraining Accuracy: 0.333\n",
      "\tEpoch 50:\tTraining loss: 0.336 \tTraining Accuracy: 0.333\n",
      "\tEpoch 51:\tTraining loss: 0.336 \tTraining Accuracy: 0.333\n",
      "\tEpoch 52:\tTraining loss: 0.336 \tTraining Accuracy: 0.333\n",
      "\tEpoch 53:\tTraining loss: 0.335 \tTraining Accuracy: 0.333\n",
      "\tEpoch 54:\tTraining loss: 0.335 \tTraining Accuracy: 0.332\n",
      "\tEpoch 55:\tTraining loss: 0.335 \tTraining Accuracy: 0.332\n",
      "\tEpoch 56:\tTraining loss: 0.335 \tTraining Accuracy: 0.332\n",
      "\tEpoch 57:\tTraining loss: 0.335 \tTraining Accuracy: 0.332\n",
      "\tEpoch 58:\tTraining loss: 0.335 \tTraining Accuracy: 0.332\n",
      "\tEpoch 59:\tTraining loss: 0.335 \tTraining Accuracy: 0.332\n",
      "\tEpoch 60:\tTraining loss: 0.334 \tTraining Accuracy: 0.332\n",
      "\tEpoch 61:\tTraining loss: 0.334 \tTraining Accuracy: 0.332\n",
      "\tEpoch 62:\tTraining loss: 0.334 \tTraining Accuracy: 0.331\n",
      "\tEpoch 63:\tTraining loss: 0.334 \tTraining Accuracy: 0.331\n",
      "\tEpoch 64:\tTraining loss: 0.334 \tTraining Accuracy: 0.331\n",
      "\tEpoch 65:\tTraining loss: 0.334 \tTraining Accuracy: 0.331\n",
      "\tEpoch 66:\tTraining loss: 0.334 \tTraining Accuracy: 0.331\n",
      "\tEpoch 67:\tTraining loss: 0.334 \tTraining Accuracy: 0.331\n",
      "\tEpoch 68:\tTraining loss: 0.333 \tTraining Accuracy: 0.331\n",
      "\tEpoch 69:\tTraining loss: 0.333 \tTraining Accuracy: 0.331\n",
      "\tEpoch 70:\tTraining loss: 0.333 \tTraining Accuracy: 0.330\n",
      "\tEpoch 71:\tTraining loss: 0.333 \tTraining Accuracy: 0.330\n",
      "\tEpoch 72:\tTraining loss: 0.333 \tTraining Accuracy: 0.330\n",
      "\tEpoch 73:\tTraining loss: 0.333 \tTraining Accuracy: 0.330\n",
      "\tEpoch 74:\tTraining loss: 0.333 \tTraining Accuracy: 0.330\n",
      "\tEpoch 75:\tTraining loss: 0.332 \tTraining Accuracy: 0.330\n",
      "\tEpoch 76:\tTraining loss: 0.332 \tTraining Accuracy: 0.330\n",
      "\tEpoch 77:\tTraining loss: 0.332 \tTraining Accuracy: 0.330\n",
      "\tEpoch 78:\tTraining loss: 0.332 \tTraining Accuracy: 0.330\n",
      "\tEpoch 79:\tTraining loss: 0.332 \tTraining Accuracy: 0.329\n",
      "\tEpoch 80:\tTraining loss: 0.332 \tTraining Accuracy: 0.329\n",
      "\tEpoch 81:\tTraining loss: 0.332 \tTraining Accuracy: 0.329\n",
      "\tEpoch 82:\tTraining loss: 0.332 \tTraining Accuracy: 0.329\n",
      "\tEpoch 83:\tTraining loss: 0.331 \tTraining Accuracy: 0.329\n",
      "\tEpoch 84:\tTraining loss: 0.331 \tTraining Accuracy: 0.329\n",
      "\tEpoch 85:\tTraining loss: 0.331 \tTraining Accuracy: 0.329\n",
      "\tEpoch 86:\tTraining loss: 0.331 \tTraining Accuracy: 0.329\n",
      "\tEpoch 87:\tTraining loss: 0.331 \tTraining Accuracy: 0.328\n",
      "\tEpoch 88:\tTraining loss: 0.331 \tTraining Accuracy: 0.328\n",
      "\tEpoch 89:\tTraining loss: 0.331 \tTraining Accuracy: 0.328\n",
      "\tEpoch 90:\tTraining loss: 0.330 \tTraining Accuracy: 0.328\n",
      "\tEpoch 91:\tTraining loss: 0.330 \tTraining Accuracy: 0.328\n",
      "\tEpoch 92:\tTraining loss: 0.330 \tTraining Accuracy: 0.328\n",
      "\tEpoch 93:\tTraining loss: 0.330 \tTraining Accuracy: 0.328\n",
      "\tEpoch 94:\tTraining loss: 0.330 \tTraining Accuracy: 0.328\n",
      "\tEpoch 95:\tTraining loss: 0.330 \tTraining Accuracy: 0.327\n",
      "\tEpoch 96:\tTraining loss: 0.330 \tTraining Accuracy: 0.327\n",
      "\tEpoch 97:\tTraining loss: 0.330 \tTraining Accuracy: 0.327\n",
      "\tEpoch 98:\tTraining loss: 0.329 \tTraining Accuracy: 0.327\n",
      "\tEpoch 99:\tTraining loss: 0.329 \tTraining Accuracy: 0.327\n",
      "\tEpoch 100:\tTraining loss: 0.329 \tTraining Accuracy: 0.327\n"
     ]
    }
   ],
   "source": [
    "# Training model\n",
    "train_losses = []\n",
    "val_losses = []\n",
    "train_accs = []\n",
    "val_accs = []\n",
    "\n",
    "for epoch in range(epochs):\n",
    "    train_batch_losses = []\n",
    "    val_batch_losses = []\n",
    "    train_batch_accs = []\n",
    "    val_batch_accs = []\n",
    "    \n",
    "    for i in range(0, X_train.shape[0], batch_size):\n",
    "        X_i = X_train[i:i+batch_size]\n",
    "        y_i = y_train[i:i+batch_size]\n",
    "        \n",
    "        # TRAINING PHASE\n",
    "        \n",
    "        # Predict output\n",
    "        y_hat = predict(X_i, theta)\n",
    "        \n",
    "        # Compute loss\n",
    "        train_loss = compute_loss(y_hat, y_i)\n",
    "        train_batch_losses.append(train_loss)\n",
    "        \n",
    "        # Compute gradient\n",
    "        gradient = compute_gradient(X_i, y_hat, y_i)\n",
    "        \n",
    "        # Update theta\n",
    "        theta = update_theta(theta, gradient, lr)\n",
    "        \n",
    "        # Compute accuracy\n",
    "        train_acc = compute_accuracy(X_train, y_train, theta)\n",
    "        train_batch_accs.append(train_acc)\n",
    "        \n",
    "        # VALIDATION PHASE\n",
    "        \n",
    "        # Predict output\n",
    "        y_val_hat = predict(X_val, theta)\n",
    "        \n",
    "        # Compute loss\n",
    "        val_loss = compute_loss(y_val_hat, y_val)\n",
    "        val_batch_losses.append(val_loss)\n",
    "        \n",
    "        # Compute accuracy\n",
    "        val_acc = compute_accuracy(X_val, y_val, theta)\n",
    "        val_batch_accs.append(val_acc)\n",
    "    \n",
    "    # Training parameters\n",
    "    train_batch_loss = sum(train_batch_losses)/len(train_batch_losses)\n",
    "    train_losses.append(train_batch_loss)\n",
    "    train_batch_acc = sum(train_batch_accs)/len(train_batch_accs)\n",
    "    train_accs.append(train_batch_acc)\n",
    "    \n",
    "    # Validation parameters\n",
    "    val_batch_loss = sum(val_batch_losses)/len(val_batch_losses)\n",
    "    val_losses.append(val_batch_loss)\n",
    "    val_batch_acc = sum(val_batch_accs)/len(val_batch_accs)\n",
    "    val_accs.append(val_batch_acc)\n",
    "    \n",
    "    # Printing Epoch's loss \n",
    "    print(f'\\tEpoch {epoch+1}:\\tTraining loss: {train_batch_loss:.3f} \\tTraining Accuracy: {val_batch_loss:.3f}')"
   ]
  },
  {
   "cell_type": "markdown",
   "metadata": {},
   "source": [
    "PLOTING RESULTS"
   ]
  },
  {
   "cell_type": "code",
   "execution_count": 19,
   "metadata": {},
   "outputs": [
    {
     "data": {
      "image/png": "[encoded data removed]",
      "text/plain": [
       "<Figure size 864x720 with 4 Axes>"
      ]
     },
     "metadata": {
      "needs_background": "light"
     },
     "output_type": "display_data"
    }
   ],
   "source": [
    "fig, ax = plt.subplots(2,2,figsize = (12,10))\n",
    "\n",
    "ax[0,0].plot(train_losses, 'green')\n",
    "ax[0,0].set(xlabel = 'Epoch', ylabel = 'Loss')\n",
    "ax[0,0].set_title('Training Loss')\n",
    "\n",
    "ax[0,1].plot(val_losses, 'orange')\n",
    "ax[0,1].set(xlabel = 'Epoch', ylabel = 'Loss')\n",
    "ax[0,1].set_title('Validation Loss')\n",
    "\n",
    "ax[1,0].plot(train_accs, 'green')\n",
    "ax[1,0].set(xlabel = 'Epoch', ylabel = 'Accuracy')\n",
    "ax[1,0].set_title('Training Accuracy')\n",
    "\n",
    "ax[1,1].plot(val_losses, 'orange')\n",
    "ax[1,1].set(xlabel = 'Epoch', ylabel = 'Accuracy')\n",
    "ax[1,1].set_title('Validation Accuracy')\n",
    "\n",
    "plt.show()"
   ]
  },
  {
   "cell_type": "markdown",
   "metadata": {},
   "source": [
    "EVALUATE THE MODEL"
   ]
  },
  {
   "cell_type": "code",
   "execution_count": 20,
   "metadata": {},
   "outputs": [
    {
     "name": "stdout",
     "output_type": "stream",
     "text": [
      "Evaluation:\n",
      "Validation Accuracy: 0.514114627887083\n",
      "Testing Accuracy: 0.5606837606837607\n"
     ]
    }
   ],
   "source": [
    "val_set_acc = compute_accuracy(X_val, y_val, theta)\n",
    "test_set_acc = compute_accuracy(X_test, y_test, theta)\n",
    "print('Evaluation:')\n",
    "print(f'Validation Accuracy: {val_set_acc}')\n",
    "print(f'Testing Accuracy: {test_set_acc}')"
   ]
  },
  {
   "cell_type": "code",
   "execution_count": null,
   "metadata": {},
   "outputs": [],
   "source": []
  }
 ],
 "metadata": {
  "kernelspec": {
   "display_name": "Python 3",
   "language": "python",
   "name": "python3"
  },
  "language_info": {
   "codemirror_mode": {
    "name": "ipython",
    "version": 3
   },
   "file_extension": ".py",
   "mimetype": "text/x-python",
   "name": "python",
   "nbconvert_exporter": "python",
   "pygments_lexer": "ipython3",
   "version": "3.8.5"
  }
 },
 "nbformat": 4,
 "nbformat_minor": 4
}
